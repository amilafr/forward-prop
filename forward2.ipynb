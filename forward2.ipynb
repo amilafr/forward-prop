{
  "nbformat": 4,
  "nbformat_minor": 0,
  "metadata": {
    "colab": {
      "name": "forward2.ipynb",
      "provenance": [],
      "collapsed_sections": [],
      "authorship_tag": "ABX9TyMm+Qq7RI4QxZ7DooFKz/gD",
      "include_colab_link": true
    },
    "kernelspec": {
      "name": "python3",
      "display_name": "Python 3"
    },
    "language_info": {
      "name": "python"
    }
  },
  "cells": [
    {
      "cell_type": "markdown",
      "metadata": {
        "id": "view-in-github",
        "colab_type": "text"
      },
      "source": [
        "<a href=\"https://colab.research.google.com/github/amilafr/forward-prop/blob/main/forward2.ipynb\" target=\"_parent\"><img src=\"https://colab.research.google.com/assets/colab-badge.svg\" alt=\"Open In Colab\"/></a>"
      ]
    },
    {
      "cell_type": "code",
      "execution_count": 1,
      "metadata": {
        "colab": {
          "base_uri": "https://localhost:8080/"
        },
        "id": "HMg9fW5ahqJE",
        "outputId": "8cc96f4c-02b2-4956-aa60-1530394e38a5"
      },
      "outputs": [
        {
          "output_type": "stream",
          "name": "stdout",
          "text": [
            "[3 1]\n",
            "5\n"
          ]
        }
      ],
      "source": [
        "import numpy as np\n",
        "\n",
        "input = np.array([1,2])\n",
        "\n",
        "weights = {'node0': np.array([1,1]), 'node1': np.array([-1,1]), 'output': np.array([2,-1])}\n",
        "\n",
        "# hidden layer\n",
        "node0 = (input * weights['node0']).sum()\n",
        "node1 = (input * weights['node1']).sum()\n",
        "\n",
        "hidden_layer = np.array([node0, node1])\n",
        "print(hidden_layer)\n",
        "\n",
        "output = (hidden_layer * weights['output']).sum()\n",
        "print(output)"
      ]
    }
  ]
}