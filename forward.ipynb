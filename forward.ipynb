{
  "nbformat": 4,
  "nbformat_minor": 0,
  "metadata": {
    "colab": {
      "name": "forward.ipynb",
      "provenance": [],
      "collapsed_sections": [],
      "authorship_tag": "ABX9TyPMgOI2+7SY5jLBKYcvGMyl",
      "include_colab_link": true
    },
    "kernelspec": {
      "name": "python3",
      "display_name": "Python 3"
    },
    "language_info": {
      "name": "python"
    }
  },
  "cells": [
    {
      "cell_type": "markdown",
      "metadata": {
        "id": "view-in-github",
        "colab_type": "text"
      },
      "source": [
        "<a href=\"https://colab.research.google.com/github/amilafr/forward-prop/blob/main/forward.ipynb\" target=\"_parent\"><img src=\"https://colab.research.google.com/assets/colab-badge.svg\" alt=\"Open In Colab\"/></a>"
      ]
    },
    {
      "cell_type": "code",
      "execution_count": 8,
      "metadata": {
        "id": "qC1Fw_xoX9NI",
        "colab": {
          "base_uri": "https://localhost:8080/"
        },
        "outputId": "394ae79e-2f9c-4aa4-f852-6771caa0ad8e"
      },
      "outputs": [
        {
          "output_type": "stream",
          "name": "stdout",
          "text": [
            "The Smallest MSE For 10000 = 0.29440677991175357\n",
            "--- 0.2604093551635742 seconds ---\n",
            "[[0.33767094 0.88603783 0.22353571]\n",
            " [0.15743046 0.48879154 0.05969859]\n",
            " [0.37873264 0.37420937 0.21891211]\n",
            " [0.03412647 0.67655218 0.0018703 ]]\n"
          ]
        }
      ],
      "source": [
        "import numpy as np\n",
        "import time\n",
        "\n",
        "#input variables\n",
        "inputx = np.array([[1],[2],[0.5],[2]]).T\n",
        "#target\n",
        "targety = np.array([[0],[1],[0]]).T\n",
        "\n",
        "def sigmoid(x):\n",
        "    return  1 / (1 + np.exp(-x))\n",
        "\n",
        "#list for saving the result\n",
        "weight =[]\n",
        "outputy=[]\n",
        "mse=[]\n",
        "\n",
        "start_time = time.time()\n",
        "\n",
        "#Running for search random weight by num of iteration\n",
        "for iteration in range(0,10000):\n",
        "    w = np.random.random((4,3))\n",
        "    weight.append(w)\n",
        "    # print(weight)\n",
        "\n",
        "    bias=np.array([[0],[1],[0]]).T\n",
        "    y = sigmoid(np.dot(inputx,w)+bias)\n",
        "    outputy.append(y)\n",
        "    minus = np.subtract(targety, outputy[iteration])\n",
        "    square = np.square(minus)\n",
        "    error = square.mean()  \n",
        "    mse.append(error)\n",
        "    \n",
        "print('The Smallest MSE For',iteration+1,'=', min(mse))\n",
        "print(\"--- %s seconds ---\" % (time.time() - start_time))\n",
        "\n",
        "for i in range(0, iteration+1):\n",
        "    if mse[i] == min(mse):\n",
        "        index = i\n",
        "print(weight[index])"
      ]
    },
    {
      "cell_type": "code",
      "source": [
        "# nyoba aja\n",
        "\n",
        "import numpy as np\n",
        "import time\n",
        "\n",
        "#input variables\n",
        "inputx = np.array([1,2,0.5,2])\n",
        "print(inputx)\n",
        "#target\n",
        "targety = np.array([0,1,0])\n",
        "\n",
        "def sigmoid(x):\n",
        "    return  1 / (1 + np.exp(-x))\n",
        "\n",
        "#list for saving the result\n",
        "weight =[]\n",
        "outputy=[]\n",
        "mse=[]\n",
        "\n",
        "start_time = time.time()\n",
        "\n",
        "#Running for search random weight by num of iteration\n",
        "for iteration in range(0,10000):\n",
        "    w = np.random.random((4,3))\n",
        "    weight.append(w)\n",
        "    # print(weight)\n",
        "\n",
        "    bias=np.array([0,1,0]).T\n",
        "    y = sigmoid(np.dot(inputx,w)+bias)\n",
        "    outputy.append(y)\n",
        "    minus = np.subtract(targety, outputy[iteration])\n",
        "    square = np.square(minus)\n",
        "    error = square.mean()  \n",
        "    mse.append(error)\n",
        "    \n",
        "print('The Smallest MSE For',iteration+1,'=', min(mse))\n",
        "print(\"--- %s seconds ---\" % (time.time() - start_time))\n",
        "\n",
        "for i in range(0, iteration+1):\n",
        "    if mse[i] == min(mse):\n",
        "        index = i\n",
        "print(weight[index])"
      ],
      "metadata": {
        "colab": {
          "base_uri": "https://localhost:8080/"
        },
        "id": "VaP0FwwGorAs",
        "outputId": "fe227a1b-4cfd-4d6e-8327-a7afeb948fdb"
      },
      "execution_count": 9,
      "outputs": [
        {
          "output_type": "stream",
          "name": "stdout",
          "text": [
            "[1.  2.  0.5 2. ]\n",
            "The Smallest MSE For 10000 = 0.3166005109323013\n",
            "--- 0.218428373336792 seconds ---\n",
            "[[0.61269496 0.78983384 0.14976823]\n",
            " [0.01494128 0.8577016  0.0291402 ]\n",
            " [0.84045492 0.68498939 0.16634945]\n",
            " [0.01617349 0.11014365 0.10530516]]\n"
          ]
        }
      ]
    }
  ]
}