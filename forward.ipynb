{
  "nbformat": 4,
  "nbformat_minor": 0,
  "metadata": {
    "colab": {
      "name": "forward.ipynb",
      "provenance": [],
      "collapsed_sections": [],
      "toc_visible": true,
      "authorship_tag": "ABX9TyPh95NHmPpZylCliNHTQj05",
      "include_colab_link": true
    },
    "kernelspec": {
      "name": "python3",
      "display_name": "Python 3"
    },
    "language_info": {
      "name": "python"
    }
  },
  "cells": [
    {
      "cell_type": "markdown",
      "metadata": {
        "id": "view-in-github",
        "colab_type": "text"
      },
      "source": [
        "<a href=\"https://colab.research.google.com/github/amilafr/forward-prop/blob/main/forward.ipynb\" target=\"_parent\"><img src=\"https://colab.research.google.com/assets/colab-badge.svg\" alt=\"Open In Colab\"/></a>"
      ]
    },
    {
      "cell_type": "code",
      "execution_count": 2,
      "metadata": {
        "id": "qC1Fw_xoX9NI",
        "colab": {
          "base_uri": "https://localhost:8080/"
        },
        "outputId": "c7cb3f7c-0643-4fa7-d317-194d23390a97"
      },
      "outputs": [
        {
          "output_type": "stream",
          "name": "stdout",
          "text": [
            "The Smallest MSE For 10000 = 0.28241386180239786\n",
            "--- 0.29766416549682617 seconds ---\n",
            "[[0.17031413 0.22432338 0.01356695]\n",
            " [0.00341918 0.32467644 0.13495931]\n",
            " [0.10788452 0.66570754 0.14740834]\n",
            " [0.13074601 0.9978681  0.1971699 ]]\n"
          ]
        }
      ],
      "source": [
        "import numpy as np\n",
        "import time\n",
        "\n",
        "#input variables\n",
        "inputx = np.array([[1],[2],[0.5],[2]]).T\n",
        "#target\n",
        "targety = np.array([[0],[1],[0]]).T\n",
        "\n",
        "def sigmoid(x):\n",
        "    return  1 / (1 + np.exp(-x))\n",
        "\n",
        "#list for saving the result\n",
        "weight =[]\n",
        "outputy=[]\n",
        "mse=[]\n",
        "\n",
        "start_time = time.time()\n",
        "\n",
        "#Running for search random weight by num of iteration\n",
        "for iteration in range(0,10000):\n",
        "    w = np.random.random((4,3))\n",
        "    weight.append(w)\n",
        "    bias=np.array([[0],[1],[0]]).T\n",
        "    y = sigmoid(np.dot(inputx,w)+bias)\n",
        "    outputy.append(y)\n",
        "    minus = np.subtract(targety, outputy[iteration])\n",
        "    square = np.square(minus)\n",
        "    error = square.mean()  \n",
        "    mse.append(error)\n",
        "    \n",
        "print('The Smallest MSE For',iteration+1,'=', min(mse))\n",
        "print(\"--- %s seconds ---\" % (time.time() - start_time))\n",
        "\n",
        "for i in range(0, iteration+1):\n",
        "    if mse[i] == min(mse):\n",
        "        index = i\n",
        "print(weight[index])"
      ]
    }
  ]
}