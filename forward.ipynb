{
  "nbformat": 4,
  "nbformat_minor": 0,
  "metadata": {
    "colab": {
      "name": "forward.ipynb",
      "provenance": [],
      "collapsed_sections": [],
      "authorship_tag": "ABX9TyOt/vjdsNs7jGJjCuQPKs1b",
      "include_colab_link": true
    },
    "kernelspec": {
      "name": "python3",
      "display_name": "Python 3"
    },
    "language_info": {
      "name": "python"
    }
  },
  "cells": [
    {
      "cell_type": "markdown",
      "metadata": {
        "id": "view-in-github",
        "colab_type": "text"
      },
      "source": [
        "<a href=\"https://colab.research.google.com/github/amilafr/forward-prop/blob/main/forward.ipynb\" target=\"_parent\"><img src=\"https://colab.research.google.com/assets/colab-badge.svg\" alt=\"Open In Colab\"/></a>"
      ]
    },
    {
      "cell_type": "code",
      "execution_count": null,
      "metadata": {
        "id": "qC1Fw_xoX9NI",
        "colab": {
          "base_uri": "https://localhost:8080/"
        },
        "outputId": "e8fb122f-9cf6-4262-d56a-8e94d20a9e3a"
      },
      "outputs": [
        {
          "output_type": "stream",
          "name": "stdout",
          "text": [
            "The Smallest MSE For 80000 = 0.2787784505498876\n",
            "--- 2.135462522506714 seconds ---\n",
            "[[0.05739269 0.80550558 0.00287939]\n",
            " [0.25552047 0.30611277 0.09719029]\n",
            " [0.33063018 0.74575886 0.25656371]\n",
            " [0.01901802 0.4267199  0.05374004]]\n"
          ]
        }
      ],
      "source": [
        "import numpy as np\n",
        "import time\n",
        "\n",
        "#input variables\n",
        "inputx = np.array([[1],[2],[0.5],[2]]).T\n",
        "#target\n",
        "targety = np.array([[0],[1],[0]]).T\n",
        "\n",
        "def sigmoid(x):\n",
        "    return  1 / (1 + np.exp(-x))\n",
        "\n",
        "#list for saving the result\n",
        "weight =[]\n",
        "outputy=[]\n",
        "mse=[]\n",
        "\n",
        "start_time = time.time()\n",
        "\n",
        "#Running for search random weight by num of iteration\n",
        "for iteration in range(0,80000):\n",
        "    w = np.random.random((4,3))\n",
        "    weight.append(w)\n",
        "    # print(weight)\n",
        "\n",
        "    bias=np.array([[0],[1],[0]]).T\n",
        "    y = sigmoid(np.dot(inputx,w)+bias)\n",
        "    outputy.append(y)\n",
        "    minus = np.subtract(targety, outputy[iteration])\n",
        "    square = np.square(minus)\n",
        "    error = square.mean()  \n",
        "    mse.append(error)\n",
        "    \n",
        "print('The Smallest MSE For',iteration+1,'=', min(mse))\n",
        "print(\"--- %s seconds ---\" % (time.time() - start_time))\n",
        "\n",
        "for i in range(0, iteration+1):\n",
        "    if mse[i] == min(mse):\n",
        "        index = i\n",
        "print(weight[index])\n",
        "# print(outputy[index])"
      ]
    },
    {
      "cell_type": "code",
      "source": [
        "!pip install xlsxwriter"
      ],
      "metadata": {
        "colab": {
          "base_uri": "https://localhost:8080/"
        },
        "id": "xLj8asLFiEeh",
        "outputId": "905e85af-45f5-4906-e3dc-0c8717987a44"
      },
      "execution_count": 2,
      "outputs": [
        {
          "output_type": "stream",
          "name": "stdout",
          "text": [
            "Looking in indexes: https://pypi.org/simple, https://us-python.pkg.dev/colab-wheels/public/simple/\n",
            "Collecting xlsxwriter\n",
            "  Downloading XlsxWriter-3.0.3-py3-none-any.whl (149 kB)\n",
            "\u001b[K     |████████████████████████████████| 149 kB 5.3 MB/s \n",
            "\u001b[?25hInstalling collected packages: xlsxwriter\n",
            "Successfully installed xlsxwriter-3.0.3\n"
          ]
        }
      ]
    },
    {
      "cell_type": "code",
      "source": [
        "# nyoba aja\n",
        "\n",
        "import numpy as np\n",
        "import time\n",
        "import pandas as pd\n",
        "import xlsxwriter\n",
        "\n",
        "#input variables\n",
        "with open('dataPCAneww2.csv') as file_name:\n",
        "    inputx = np.loadtxt(file_name, delimiter=',', usecols=(0,1,2,3,4), skiprows=1)\n",
        "    # targety = np.loadtxt(file_name, usecols=5)\n",
        "\n",
        "with open('dataPCAneww2.csv') as file_name:\n",
        "    targety = np.loadtxt(file_name, delimiter=',', usecols=(5), skiprows=1)\n",
        "\n",
        "\n",
        "def sigmoid(x):\n",
        "    return  1 / (1 + np.exp(-x))\n",
        "\n",
        "#list for saving the result\n",
        "weight =[]\n",
        "outputy=[]\n",
        "mse=[]\n",
        "\n",
        "start_time = time.time()\n",
        "\n",
        "#Running for search random weight by num of iteration\n",
        "for iteration in range(0,80000):\n",
        "    w = np.random.random((5,50))\n",
        "    weight.append(w)\n",
        "    # print(weight)\n",
        "\n",
        "    bias = targety\n",
        "    for j in range(0,50):\n",
        "      y = sigmoid(np.dot(inputx[j],w)+bias)\n",
        "      outputy.append(y)\n",
        "    minus = np.subtract(targety, outputy[iteration])\n",
        "    square = np.square(minus)\n",
        "    error = square.mean()  \n",
        "    mse.append(error)\n",
        "    \n",
        "print('The Smallest MSE For',iteration+1,'=', min(mse))\n",
        "print(\"--- %s seconds ---\" % (time.time() - start_time))\n",
        "\n",
        "for i in range(0, iteration+1):\n",
        "    if mse[i] == min(mse):\n",
        "        index = i\n",
        "print(weight[index])\n",
        "\n",
        "workbook = xlsxwriter.Workbook('hasil(80000-50).xlsx')\n",
        "worksheet = workbook.add_worksheet()\n",
        "\n",
        "row = 0\n",
        "\n",
        "for col, data in enumerate(weight[index]):\n",
        "    worksheet.write_column(row, col, data)\n",
        "\n",
        "workbook.close()\n",
        "\n",
        "# pd.DataFrame(weight[index]).to_csv('hasil_forward.csv', index_label = \"kriteria\", \n",
        "#                                    header  = ['w1','w2','w3','w4','w5','w6','w7','w8','w9','w10',\n",
        "#                                               'w11','w12','w13','w14','w15','w16','w17','w18','w19','w20',\n",
        "#                                               'w21','w22','w23','w24','w25','w26','w27','w28','w29','w30',\n",
        "#                                               'w31','w32','w33','w34','w35','w36','w37','w38','w39','w40',\n",
        "#                                               'w41','w42','w43','w44','w45','w46','w47','w48','w49','w50',])\n",
        "# weight[index].tofile('hasil.csv', sep = ',')\n",
        "# print(outputy[index])"
      ],
      "metadata": {
        "colab": {
          "base_uri": "https://localhost:8080/"
        },
        "id": "VaP0FwwGorAs",
        "outputId": "24a7ade7-8866-4ca9-a38a-0ab835f46d89"
      },
      "execution_count": 12,
      "outputs": [
        {
          "output_type": "stream",
          "name": "stdout",
          "text": [
            "The Smallest MSE For 80000 = 1.8600719382615996\n",
            "--- 41.37728238105774 seconds ---\n",
            "[[0.45852838 0.70499274 0.1003773  0.30781529 0.17612886 0.1111094\n",
            "  0.93873666 0.56659613 0.88979829 0.97568362 0.32398008 0.42122114\n",
            "  0.55238605 0.95748694 0.80157552 0.80639789 0.06853018 0.1785702\n",
            "  0.18401168 0.01837303 0.67868055 0.66621364 0.97576368 0.62924071\n",
            "  0.25651312 0.04596278 0.54858625 0.00254126 0.59562178 0.46268034\n",
            "  0.65439307 0.02900589 0.67937545 0.91044886 0.51558078 0.87485765\n",
            "  0.42416312 0.49877185 0.10218234 0.76828142 0.53852555 0.77686362\n",
            "  0.60206518 0.9968782  0.56965211 0.20097101 0.36833485 0.4041014\n",
            "  0.74221851 0.30673994]\n",
            " [0.93672246 0.19322137 0.07804492 0.71322118 0.17725624 0.2907045\n",
            "  0.45209707 0.01069857 0.16436388 0.96016331 0.89057485 0.88573333\n",
            "  0.80896783 0.73693415 0.51833948 0.87569636 0.36611845 0.62217899\n",
            "  0.53016732 0.52096635 0.78346269 0.84358341 0.72674482 0.86893018\n",
            "  0.50951741 0.31573648 0.08528448 0.5753828  0.59770859 0.47513144\n",
            "  0.62959437 0.58952841 0.13042885 0.23235485 0.0949295  0.00585521\n",
            "  0.69162979 0.45175527 0.52179106 0.02706813 0.70195422 0.2828038\n",
            "  0.92009536 0.47930048 0.8019894  0.92650479 0.99903381 0.55186414\n",
            "  0.45202477 0.15778058]\n",
            " [0.28910163 0.68776887 0.19069283 0.42808257 0.91682423 0.20282857\n",
            "  0.13008637 0.59686479 0.37070139 0.42676311 0.38667791 0.37397808\n",
            "  0.87831572 0.12128133 0.79312531 0.70221112 0.67021332 0.25512986\n",
            "  0.91729328 0.50941056 0.04453515 0.68745782 0.22862818 0.74112988\n",
            "  0.43257476 0.3074618  0.7193912  0.15818316 0.24367549 0.78378012\n",
            "  0.88177802 0.97098903 0.60419985 0.87999224 0.06850384 0.35443932\n",
            "  0.89223947 0.57447576 0.90625359 0.44125551 0.84418888 0.91385735\n",
            "  0.03072133 0.45998173 0.04347367 0.06929895 0.30912497 0.62791411\n",
            "  0.92519106 0.65856463]\n",
            " [0.95824767 0.652734   0.45784969 0.88657725 0.53642455 0.70244883\n",
            "  0.23098166 0.88858733 0.68371993 0.55472529 0.74477456 0.27682579\n",
            "  0.00860885 0.06328934 0.80872583 0.79608549 0.7488846  0.77444689\n",
            "  0.54115343 0.21834564 0.1502063  0.99819022 0.94622638 0.89122958\n",
            "  0.73995933 0.20227399 0.91873663 0.34859087 0.11733503 0.82613408\n",
            "  0.88940081 0.82155805 0.96534829 0.13775621 0.80598529 0.79181214\n",
            "  0.41073389 0.1461378  0.18633313 0.14813797 0.36611787 0.70514231\n",
            "  0.29971942 0.37773262 0.04425509 0.38035615 0.34847325 0.53924958\n",
            "  0.80879616 0.34809721]\n",
            " [0.73505263 0.23156575 0.92140736 0.52404332 0.43787119 0.80205429\n",
            "  0.42715043 0.29510783 0.44736678 0.21723056 0.63669228 0.66421574\n",
            "  0.17048613 0.92551832 0.98938043 0.97667714 0.76190001 0.67199993\n",
            "  0.67105456 0.31198995 0.20359212 0.26803312 0.49403192 0.52639577\n",
            "  0.61395165 0.58440299 0.51118169 0.55897159 0.2572843  0.38578162\n",
            "  0.92174301 0.63213788 0.680865   0.83027688 0.17701777 0.4838339\n",
            "  0.77262415 0.75403324 0.25089864 0.77805709 0.17979096 0.42956459\n",
            "  0.44591974 0.60302621 0.05533095 0.55913048 0.85547582 0.37466703\n",
            "  0.92128144 0.37946481]]\n"
          ]
        }
      ]
    },
    {
      "cell_type": "code",
      "source": [
        ""
      ],
      "metadata": {
        "id": "XvJxaQuMFfw3"
      },
      "execution_count": null,
      "outputs": []
    }
  ]
}